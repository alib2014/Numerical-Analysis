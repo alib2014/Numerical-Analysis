{
 "cells": [
  {
   "cell_type": "markdown",
   "id": "54411b37",
   "metadata": {},
   "source": [
    "# Qestion 1"
   ]
  },
  {
   "cell_type": "code",
   "execution_count": 14,
   "id": "93b03e97",
   "metadata": {},
   "outputs": [
    {
     "name": "stdout",
     "output_type": "stream",
     "text": [
      "3*x**2 - 4*x + 5\n",
      "-2*x/(x**2 + 1)**2\n",
      "-exp(2*x)*sin(x) + 2*exp(2*x)*cos(x)\n"
     ]
    }
   ],
   "source": [
    "import sympy as sp\n",
    "\n",
    "x = sp.Symbol('x', real=True)\n",
    "\n",
    "f1 = x**3 - 2*x**2 + 5*x - 7\n",
    "f2 = 1 / (x**2 + 1)\n",
    "f3 = (sp.exp(2*x)) * sp.cos(x)\n",
    "\n",
    "print(f1.diff(x))\n",
    "print(f2.diff(x))\n",
    "print(f3.diff(x))"
   ]
  },
  {
   "cell_type": "markdown",
   "id": "c7aea52e",
   "metadata": {},
   "source": [
    "# Qestion 2"
   ]
  },
  {
   "cell_type": "code",
   "execution_count": 2,
   "id": "59e8d7d2",
   "metadata": {},
   "outputs": [
    {
     "name": "stdout",
     "output_type": "stream",
     "text": [
      "x**2 + 5*x\n",
      "atan(x)\n",
      "x**4/12 - 2*x**3/3 + 5*x**2/2 - 7*x\n"
     ]
    }
   ],
   "source": [
    "g1 = 2*x + 5\n",
    "g2 = 1 / (x**2 + 1)\n",
    "g3 = x**3/3 + - 2*x**2 + 5*x - 7\n",
    "\n",
    "print(g1.integrate(x))\n",
    "print(g2.integrate(x))\n",
    "print(g3.integrate(x))"
   ]
  },
  {
   "cell_type": "markdown",
   "id": "e9e538b0",
   "metadata": {},
   "source": [
    "# Question 3"
   ]
  },
  {
   "cell_type": "code",
   "execution_count": 3,
   "id": "d5c171c3",
   "metadata": {},
   "outputs": [
    {
     "name": "stdout",
     "output_type": "stream",
     "text": [
      "[{x: 1}, {x: 2}]\n",
      "[0]\n",
      "[1.04719755119660, 5.23598775598299]\n"
     ]
    }
   ],
   "source": [
    "eq1 = sp.Eq(x**2 - 3*x + 2, 0), \n",
    "eq2 = sp.Eq(sp.exp(x) + x - 1, 0)\n",
    "eq3 = sp.Eq(sp.cos(x), 1/2)\n",
    "\n",
    "print(sp.solve(eq1))\n",
    "print(sp.solve(eq2))\n",
    "print(sp.solve(eq3))"
   ]
  },
  {
   "cell_type": "markdown",
   "id": "010a4362",
   "metadata": {},
   "source": [
    "# Question 4"
   ]
  },
  {
   "cell_type": "code",
   "execution_count": 22,
   "id": "ef117822",
   "metadata": {
    "scrolled": false
   },
   "outputs": [
    {
     "data": {
      "text/latex": [
       "$\\displaystyle \\frac{2 \\sin{\\left(x \\right)}}{\\pi} + \\frac{2 \\sin{\\left(3 x \\right)}}{3 \\pi} + \\frac{2 \\sin{\\left(5 x \\right)}}{5 \\pi} + \\frac{2 \\sin{\\left(7 x \\right)}}{7 \\pi} + \\frac{2 \\sin{\\left(9 x \\right)}}{9 \\pi} + \\frac{2 \\sin{\\left(11 x \\right)}}{11 \\pi} + \\frac{2 \\sin{\\left(13 x \\right)}}{13 \\pi} + \\frac{2 \\sin{\\left(15 x \\right)}}{15 \\pi} + \\frac{2 \\sin{\\left(17 x \\right)}}{17 \\pi} + \\frac{1}{2}$"
      ],
      "text/plain": [
       "2*sin(x)/pi + 2*sin(3*x)/(3*pi) + 2*sin(5*x)/(5*pi) + 2*sin(7*x)/(7*pi) + 2*sin(9*x)/(9*pi) + 2*sin(11*x)/(11*pi) + 2*sin(13*x)/(13*pi) + 2*sin(15*x)/(15*pi) + 2*sin(17*x)/(17*pi) + 1/2"
      ]
     },
     "execution_count": 22,
     "metadata": {},
     "output_type": "execute_result"
    }
   ],
   "source": [
    "h = sp.Piecewise((0, (-1*sp.pi <= x) & (x < 0)), (1, (0 <= x) & (x < sp.pi)))\n",
    "h\n",
    "\n",
    "s = sp.fourier_series(h, (x, -sp.pi, sp.pi)).truncate(10)\n",
    "s"
   ]
  },
  {
   "cell_type": "markdown",
   "id": "43f7b2b1",
   "metadata": {},
   "source": [
    "# Question 5"
   ]
  },
  {
   "cell_type": "code",
   "execution_count": 6,
   "id": "b051fedb",
   "metadata": {},
   "outputs": [
    {
     "name": "stdout",
     "output_type": "stream",
     "text": [
      "3*cos(t) - 8*cos(2*t)\n",
      "-3*sin(t) + 16*sin(2*t)\n"
     ]
    }
   ],
   "source": [
    "t = sp.Symbol('t')\n",
    "p = 3*sp.sin(t) - 4*sp.sin(2*t)\n",
    "\n",
    "v = p.diff(t)\n",
    "print(v)\n",
    "a = p.diff(t, 2)\n",
    "print(a)"
   ]
  }
 ],
 "metadata": {
  "kernelspec": {
   "display_name": "Python 3 (ipykernel)",
   "language": "python",
   "name": "python3"
  },
  "language_info": {
   "codemirror_mode": {
    "name": "ipython",
    "version": 3
   },
   "file_extension": ".py",
   "mimetype": "text/x-python",
   "name": "python",
   "nbconvert_exporter": "python",
   "pygments_lexer": "ipython3",
   "version": "3.9.12"
  }
 },
 "nbformat": 4,
 "nbformat_minor": 5
}
